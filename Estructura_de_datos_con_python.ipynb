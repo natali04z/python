{
  "nbformat": 4,
  "nbformat_minor": 0,
  "metadata": {
    "colab": {
      "provenance": [],
      "authorship_tag": "ABX9TyMygVxGbtYcu1nFRTA76JKo",
      "include_colab_link": true
    },
    "kernelspec": {
      "name": "python3",
      "display_name": "Python 3"
    },
    "language_info": {
      "name": "python"
    }
  },
  "cells": [
    {
      "cell_type": "markdown",
      "metadata": {
        "id": "view-in-github",
        "colab_type": "text"
      },
      "source": [
        "<a href=\"https://colab.research.google.com/github/natali04z/python/blob/main/Estructura_de_datos_con_python.ipynb\" target=\"_parent\"><img src=\"https://colab.research.google.com/assets/colab-badge.svg\" alt=\"Open In Colab\"/></a>"
      ]
    },
    {
      "cell_type": "markdown",
      "source": [
        "# Listas"
      ],
      "metadata": {
        "id": "Fj7CoR4slQNH"
      }
    },
    {
      "cell_type": "code",
      "source": [
        "# Listas\n",
        "lista = [1, 2, 3] # lista homogenea\n",
        "print(lista)\n",
        "\n",
        "lista2 = [2, True, \"Soy un texto dentro de la lista\"] #lista heterogenea\n",
        "print(lista2)\n",
        "\n",
        "print(lista2[1]) # imprime ok el contenido de la lista en la posicion 1 = n1\n",
        "lista2[0] = 50\n",
        "print(lista2)"
      ],
      "metadata": {
        "colab": {
          "base_uri": "https://localhost:8080/"
        },
        "id": "rtBZa3VNlOYk",
        "outputId": "8294383b-4953-4f40-93ce-85bdb6b464b2"
      },
      "execution_count": 3,
      "outputs": [
        {
          "output_type": "stream",
          "name": "stdout",
          "text": [
            "[1, 2, 3]\n",
            "[2, True, 'Soy un texto dentro de la lista']\n",
            "True\n",
            "[50, True, 'Soy un texto dentro de la lista']\n"
          ]
        }
      ]
    },
    {
      "cell_type": "markdown",
      "source": [],
      "metadata": {
        "id": "BMROWLZlnbKf"
      }
    },
    {
      "cell_type": "markdown",
      "source": [
        "Metodo para las listas"
      ],
      "metadata": {
        "id": "SuECdRsGnPBc"
      }
    },
    {
      "cell_type": "markdown",
      "source": [
        "#Metodos para las listas"
      ],
      "metadata": {
        "id": "Dqnvrrt1nXYI"
      }
    },
    {
      "cell_type": "code",
      "source": [
        "# Metodo append\n",
        "lista_nueva = [1, 2, 3, 4, 5]\n",
        "lista_nueva.append(3) #Agrega el valor 3 en la ultima posicion de la lista\n",
        "print(lista_nueva)\n",
        "\n",
        "# Metodo count\n",
        "print(lista_nueva.count(3)) # Devuelve la cantidad de veces que se repite un valor de la lista\n",
        "\n",
        "# Metodo index\n",
        "print(lista_nueva.index(3)) #Muestra la primera posicion\n",
        "\n",
        "# Metodo remove\n",
        "# Elimina la primera aparición de un elemento dentro de la lista\n",
        "lista_nueva.remove(3)\n",
        "print(lista_nueva)"
      ],
      "metadata": {
        "colab": {
          "base_uri": "https://localhost:8080/"
        },
        "id": "9U5fhiWsnWrB",
        "outputId": "51cd9c22-ad8a-4dc3-bf04-43134900a537"
      },
      "execution_count": 8,
      "outputs": [
        {
          "output_type": "stream",
          "name": "stdout",
          "text": [
            "[1, 2, 3, 4, 5, 3]\n",
            "2\n",
            "2\n",
            "[1, 2, 4, 5, 3]\n"
          ]
        }
      ]
    },
    {
      "cell_type": "markdown",
      "source": [
        "#Tuplas"
      ],
      "metadata": {
        "id": "dJQCpKvEpTyO"
      }
    },
    {
      "cell_type": "code",
      "source": [
        "# Tuplas\n",
        "tupla = (1, 2, 3) # Tupla homogenea\n",
        "print(tupla)\n",
        "print((1, ))\n",
        "\n",
        "tupla2 = (5, False, \"Soy un texto de una tupla\", True) #Tupla heterogenea\n",
        "print(tupla2)\n",
        "\n",
        "# Acceder al contenido de una tupla\n",
        "print(tupla2[0])"
      ],
      "metadata": {
        "colab": {
          "base_uri": "https://localhost:8080/"
        },
        "id": "-rlJLxKopV9o",
        "outputId": "36046639-b6be-4a60-937c-26c6c1ccb2f2"
      },
      "execution_count": 10,
      "outputs": [
        {
          "output_type": "stream",
          "name": "stdout",
          "text": [
            "(1, 2, 3)\n",
            "(1,)\n",
            "(5, False, 'Soy un texto de una tupla', True)\n",
            "5\n"
          ]
        }
      ]
    },
    {
      "cell_type": "markdown",
      "source": [
        "#Metodo para las tuplas"
      ],
      "metadata": {
        "id": "932IaZqsqfWa"
      }
    },
    {
      "cell_type": "code",
      "source": [
        "#Count\n",
        "print(tupla2.count(False))\n",
        "\n",
        "#Index\n",
        "print(tupla2.index(True))"
      ],
      "metadata": {
        "id": "cB4oXMTeqsy_"
      },
      "execution_count": null,
      "outputs": []
    },
    {
      "cell_type": "markdown",
      "source": [
        "#Conjuntos"
      ],
      "metadata": {
        "id": "0YXnQe9rrc85"
      }
    },
    {
      "cell_type": "code",
      "source": [
        "set() # construir conjuntos\n",
        "# No muestra elementos repetidos de la lista del conjunto\n",
        "conjunto = set([1, 2, 3, 4, 4, 5])\n",
        "print(conjunto)\n",
        "\n",
        "print(set([1, 2, 3]))\n",
        "print(set((1, 2, 3, 4, 4)))\n",
        "print(set(\"3.1415\")) # un string lo obtiene como un conjunto de char, python"
      ],
      "metadata": {
        "colab": {
          "base_uri": "https://localhost:8080/"
        },
        "id": "4P88n7_Erity",
        "outputId": "7967a96d-c5b6-46a1-a70c-580dd0eaa1a7"
      },
      "execution_count": 18,
      "outputs": [
        {
          "output_type": "stream",
          "name": "stdout",
          "text": [
            "{1, 2, 3, 4, 5}\n",
            "{1, 2, 3}\n",
            "{1, 2, 3, 4}\n",
            "{'5', '1', '4', '3', '.'}\n"
          ]
        }
      ]
    },
    {
      "cell_type": "markdown",
      "source": [
        "# Metodos para trabajar con los conjuntos en python"
      ],
      "metadata": {
        "id": "KYc_MO0mtfgW"
      }
    },
    {
      "cell_type": "code",
      "source": [
        "# Metodo add\n",
        "# Podemos añadir elementos al conjunto\n",
        "\n",
        "conjunto.add(0)\n",
        "print(conjunto)\n",
        "\n",
        "# Metodo remove\n",
        "# Elimina elementos del conjunto\n",
        "\n",
        "conjunto.remove(1)\n",
        "print(conjunto)"
      ],
      "metadata": {
        "id": "OWjnGnsMtxrS"
      },
      "execution_count": null,
      "outputs": []
    },
    {
      "cell_type": "markdown",
      "source": [
        "# Operaciones con conjuntos"
      ],
      "metadata": {
        "id": "255w51wCuQfK"
      }
    },
    {
      "cell_type": "code",
      "source": [
        "# Intersección\n",
        "conjunto_A = set([2, 4, 5, 7, 10, 12])\n",
        "conjunto_B = set([1, 3, 7])\n",
        "\n",
        "print(conjunto, conjunto_A, conjunto_B)\n",
        "print(conjunto.intersection(conjunto_A)) # Aplicamos la interseccion entre conjuntos y este imprime los valores que son comunes\n",
        "\n",
        "print(conjunto & conjunto_A) # Aplicando interseccion con el simbolo &\n",
        "\n",
        "# Unión\n",
        "# Une los elementos de dos conjuntos\n",
        "print(conjunto_A.union(conjunto))\n",
        "\n",
        "print(conjunto_A | conjunto) # Aplicando la union con el simbolo |"
      ],
      "metadata": {
        "colab": {
          "base_uri": "https://localhost:8080/"
        },
        "id": "jLqw8ql6uVrV",
        "outputId": "724a91bd-5771-4a6d-a548-7a97083a370a"
      },
      "execution_count": 21,
      "outputs": [
        {
          "output_type": "stream",
          "name": "stdout",
          "text": [
            "{1, 2, 3, 4, 5} {2, 4, 5, 7, 10, 12} {1, 3, 7}\n",
            "{2, 4, 5}\n",
            "{2, 4, 5}\n"
          ]
        }
      ]
    },
    {
      "cell_type": "markdown",
      "source": [
        "---\n",
        "Diccionarios\n",
        "\n",
        "(key: value)\n",
        "\n",
        "\n",
        "*   No son ordenados\n",
        "*   Son heterogeneos con clave inmutable {(1,2 ): [\"uno\", \"dos\"], 1:\"uno\"}\n",
        "*   Mutables\n",
        "\n",
        "\n",
        "\n",
        "\n"
      ],
      "metadata": {
        "id": "Zte1WDiEyLC9"
      }
    },
    {
      "cell_type": "code",
      "source": [
        "# Diccionario\n",
        "\n",
        "{} # Diccionario vacio\n",
        "diccionario = {1: \"uno\", 2: \"dos\"} # Creamos el diccionario con clave y valor separados por comas\n",
        "print(diccionario)\n",
        "\n",
        "# Podemos ver el valor de un key usando corchetes\n",
        "print(diccionario[2])\n",
        "\n",
        "# Podemos cambiar el valor de una key usando el simbolo =\n",
        "diccionario[3] = \"tres\"\n",
        "print(diccionario)\n",
        "\n",
        "# Podemos crear diccionarios utilizando la propiedad dict\n",
        "dic_lista_tupla = dict([(1, \"uno\"), (2, \"dos\"), (3, \"tres\")])\n",
        "print\n",
        "\n",
        "# Cuando las key son tipo string escribimos los datos con igual\n",
        "dict_lista_string = dict(uno = 1, dos = 2, tres = 3)\n",
        "print(dict_lista_string)\n",
        "\n",
        "# En el diccionario se pueden varios tipos de datos\n",
        "dict_datos = {1: \"integer\", 2.2: \"float\", \"tres\": \"string\", (1, 2): 'tupla'}\n",
        "print(dict_datos)\n",
        "\n",
        "# Las key siempre deben ser unicas, en caso de repetir una key solo tomará el ultimo valor asignado\n",
        "dict_repeticion = {1: \"uno\", 1: \"texto\"}\n",
        "print(dict_repeticion)\n",
        "\n",
        "#"
      ],
      "metadata": {
        "colab": {
          "base_uri": "https://localhost:8080/"
        },
        "id": "VAj15jwNy_co",
        "outputId": "99c2185c-6cad-4b7a-e97c-cb3fec8ebe33"
      },
      "execution_count": 25,
      "outputs": [
        {
          "output_type": "stream",
          "name": "stdout",
          "text": [
            "{1: 'uno', 2: 'dos'}\n",
            "dos\n",
            "{1: 'uno', 2: 'dos', 3: 'tres'}\n",
            "{'uno': 1, 'dos': 2, 'tres': 3}\n",
            "{1: 'integer', 2.2: 'float', 'tres': 'string', (1, 2): 'tupla'}\n",
            "{1: 'texto'}\n"
          ]
        }
      ]
    },
    {
      "cell_type": "markdown",
      "source": [
        "## Metodos en los diccionarios"
      ],
      "metadata": {
        "id": "VyQCevug2u9q"
      }
    },
    {
      "cell_type": "code",
      "source": [
        "# Key: Devuelve una lista con las claves\n",
        "print(diccionario.keys())\n",
        "\n",
        "# Values: Devuelve una lista de los valores\n",
        "print(diccionario.values())\n",
        "\n",
        "# Pop = Para eliminar una clave y su valor\n",
        "diccionario.pop(2)\n",
        "print(diccionario)"
      ],
      "metadata": {
        "colab": {
          "base_uri": "https://localhost:8080/"
        },
        "id": "LS7ljGmW20fy",
        "outputId": "665cc14e-1697-479e-dc14-208e59afdc1e"
      },
      "execution_count": 26,
      "outputs": [
        {
          "output_type": "stream",
          "name": "stdout",
          "text": [
            "dict_keys([1, 2, 3])\n"
          ]
        }
      ]
    }
  ]
}